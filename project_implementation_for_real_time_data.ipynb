{
  "nbformat": 4,
  "nbformat_minor": 0,
  "metadata": {
    "colab": {
      "provenance": [],
      "authorship_tag": "ABX9TyNKrPEEJd+QKZHSPPZlXOAr",
      "include_colab_link": true
    },
    "kernelspec": {
      "name": "python3",
      "display_name": "Python 3"
    },
    "language_info": {
      "name": "python"
    }
  },
  "cells": [
    {
      "cell_type": "markdown",
      "metadata": {
        "id": "view-in-github",
        "colab_type": "text"
      },
      "source": [
        "<a href=\"https://colab.research.google.com/github/Dongrisajid/HarvestAI-Empowering-Farmers-with-Advanced-AI-Solutionsh/blob/main/project_implementation_for_real_time_data.ipynb\" target=\"_parent\"><img src=\"https://colab.research.google.com/assets/colab-badge.svg\" alt=\"Open In Colab\"/></a>"
      ]
    },
    {
      "cell_type": "code",
      "execution_count": 1,
      "metadata": {
        "colab": {
          "base_uri": "https://localhost:8080/",
          "height": 384
        },
        "id": "-LqbxVGaW8oV",
        "outputId": "999eb9b3-5c09-41c0-d171-ac240d80ee11"
      },
      "outputs": [
        {
          "output_type": "error",
          "ename": "ModuleNotFoundError",
          "evalue": "No module named 'RPi'",
          "traceback": [
            "\u001b[0;31m---------------------------------------------------------------------------\u001b[0m",
            "\u001b[0;31mModuleNotFoundError\u001b[0m                       Traceback (most recent call last)",
            "\u001b[0;32m<ipython-input-1-d114cc89a65b>\u001b[0m in \u001b[0;36m<cell line: 0>\u001b[0;34m()\u001b[0m\n\u001b[0;32m----> 1\u001b[0;31m \u001b[0;32mimport\u001b[0m \u001b[0mRPi\u001b[0m\u001b[0;34m.\u001b[0m\u001b[0mGPIO\u001b[0m \u001b[0;32mas\u001b[0m \u001b[0mGPIO\u001b[0m\u001b[0;34m\u001b[0m\u001b[0;34m\u001b[0m\u001b[0m\n\u001b[0m\u001b[1;32m      2\u001b[0m \u001b[0;32mimport\u001b[0m \u001b[0mtime\u001b[0m\u001b[0;34m\u001b[0m\u001b[0;34m\u001b[0m\u001b[0m\n\u001b[1;32m      3\u001b[0m \u001b[0;32mimport\u001b[0m \u001b[0mdht11\u001b[0m\u001b[0;34m\u001b[0m\u001b[0;34m\u001b[0m\u001b[0m\n\u001b[1;32m      4\u001b[0m \u001b[0;32mimport\u001b[0m \u001b[0mrequests\u001b[0m\u001b[0;34m\u001b[0m\u001b[0;34m\u001b[0m\u001b[0m\n\u001b[1;32m      5\u001b[0m \u001b[0;34m\u001b[0m\u001b[0m\n",
            "\u001b[0;31mModuleNotFoundError\u001b[0m: No module named 'RPi'",
            "",
            "\u001b[0;31m---------------------------------------------------------------------------\u001b[0;32m\nNOTE: If your import is failing due to a missing package, you can\nmanually install dependencies using either !pip or !apt.\n\nTo view examples of installing some common dependencies, click the\n\"Open Examples\" button below.\n\u001b[0;31m---------------------------------------------------------------------------\u001b[0m\n"
          ],
          "errorDetails": {
            "actions": [
              {
                "action": "open_url",
                "actionText": "Open Examples",
                "url": "/notebooks/snippets/importing_libraries.ipynb"
              }
            ]
          }
        }
      ],
      "source": [
        "import RPi.GPIO as GPIO\n",
        "import time\n",
        "import dht11\n",
        "import requests\n",
        "\n",
        "# Setup GPIO mode\n",
        "GPIO.setmode(GPIO.BCM)\n",
        "GPIO.setwarnings(False)\n",
        "\n",
        "# Setup GPIO pins\n",
        "moisture_pin = 17     # Soil moisture sensor pin\n",
        "relay_pin = 27        # Relay control pin for water pump\n",
        "rain_sensor_pin = 22  # Rain sensor pin\n",
        "dht11_pin = 4         # DHT11 sensor pin\n",
        "\n",
        "# Setup GPIO for relay and sensors\n",
        "GPIO.setup(moisture_pin, GPIO.IN)\n",
        "GPIO.setup(relay_pin, GPIO.OUT)\n",
        "GPIO.setup(rain_sensor_pin, GPIO.IN)\n",
        "GPIO.setup(dht11_pin, GPIO.IN)\n",
        "\n",
        "# ThingSpeak settings\n",
        "thingSpeakAPIKey = 'YOUR_THINGSPEAK_API_KEY'\n",
        "thingSpeakURL = f\"https://api.thingspeak.com/update?api_key={thingSpeakAPIKey}\"\n",
        "\n",
        "# Function to read DHT11 (temperature and humidity)\n",
        "def read_dht11():\n",
        "    instance = dht11.DHT11(pin=dht11_pin)\n",
        "    result = instance.read()\n",
        "    if result.is_valid():\n",
        "        temperature = result.temperature\n",
        "        humidity = result.humidity\n",
        "        return temperature, humidity\n",
        "    return None, None\n",
        "\n",
        "# Function to check soil moisture\n",
        "def read_soil_moisture():\n",
        "    return GPIO.input(moisture_pin)\n",
        "\n",
        "# Function to check rain status\n",
        "def read_rain_sensor():\n",
        "    return GPIO.input(rain_sensor_pin)\n",
        "\n",
        "# Function to send data to ThingSpeak\n",
        "def send_data_to_thingspeak(temperature, humidity, moisture, rain_status):\n",
        "    payload = f\"&field1={temperature}&field2={humidity}&field3={moisture}&field4={rain_status}\"\n",
        "    response = requests.get(thingSpeakURL + payload)\n",
        "    print(response.text)\n",
        "\n",
        "# Main loop to collect data and control irrigation\n",
        "try:\n",
        "    while True:\n",
        "        # Read sensors\n",
        "        temperature, humidity = read_dht11()\n",
        "        soil_moisture = read_soil_moisture()\n",
        "        rain_status = read_rain_sensor()\n",
        "\n",
        "        # Control pump based on moisture and rain status\n",
        "        if soil_moisture == 0 and rain_status == 0:  # Low moisture and no rain\n",
        "            GPIO.output(relay_pin, GPIO.HIGH)  # Turn on pump\n",
        "        else:\n",
        "            GPIO.output(relay_pin, GPIO.LOW)   # Turn off pump\n",
        "\n",
        "        # Send data to ThingSpeak\n",
        "        if temperature is not None and humidity is not None:\n",
        "            send_data_to_thingspeak(temperature, humidity, soil_moisture, rain_status)\n",
        "\n",
        "        # Wait before next reading\n",
        "        time.sleep(60)  # Delay for 1 minute (adjustable)\n",
        "\n",
        "except KeyboardInterrupt:\n",
        "    print(\"Program stopped manually.\")\n",
        "    GPIO.cleanup()\n"
      ]
    }
  ]
}